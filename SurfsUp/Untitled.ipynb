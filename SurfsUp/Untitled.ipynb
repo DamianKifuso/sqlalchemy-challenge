{
 "cells": [
  {
   "cell_type": "code",
   "execution_count": 2,
   "id": "549108ef-62d6-4871-b102-6f46ed9c530f",
   "metadata": {
    "tags": []
   },
   "outputs": [],
   "source": [
    "#dependencies\n",
    "import numpy as np\n",
    "import pandas as pd\n",
    "import datetime as dt\n",
    "import sqlalchemy\n",
    "from sqlalchemy.ext.automap import automap_base\n",
    "from sqlalchemy.inspection import inspect\n",
    "from sqlalchemy.orm import Session\n",
    "from sqlalchemy import create_engine, func\n",
    "from flask import Flask,jsonify"
   ]
  },
  {
   "cell_type": "code",
   "execution_count": 3,
   "id": "cb126ba2-5a76-40ed-8818-148eca0cec25",
   "metadata": {
    "tags": []
   },
   "outputs": [],
   "source": [
    "# create engine to hawaii.sqlite\n",
    "engine = create_engine(\"sqlite:///Resources/hawaii.sqlite\")\n",
    "Base = automap_base()\n",
    "Base.prepare(engine, reflect=True)"
   ]
  },
  {
   "cell_type": "code",
   "execution_count": 4,
   "id": "ed58b7e4-d788-43c6-815a-5c6c39089fe0",
   "metadata": {
    "tags": []
   },
   "outputs": [],
   "source": [
    "# Save references to each table\n",
    "Station = Base.classes.station\n",
    "Measurement = Base.classes.measurement\n"
   ]
  },
  {
   "cell_type": "code",
   "execution_count": 5,
   "id": "ea1717e1-5b8a-4805-b363-dfe5e0c613e3",
   "metadata": {
    "tags": []
   },
   "outputs": [],
   "source": [
    "# Create our session (link) from Python to the DB\n",
    "session = Session(engine)"
   ]
  },
  {
   "cell_type": "code",
   "execution_count": 6,
   "id": "1dd04ffb-61f0-4c10-aa7a-f505ee0c4b60",
   "metadata": {
    "tags": []
   },
   "outputs": [
    {
     "data": {
      "text/plain": [
       "datetime.date(2016, 8, 23)"
      ]
     },
     "execution_count": 6,
     "metadata": {},
     "output_type": "execute_result"
    }
   ],
   "source": [
    "# Find the most recent date in the data set.\n",
    "Last_date_str = session.query(Measurement.date).order_by(Measurement.date.desc()).first()[0]\n",
    "Last_date = dt.date.fromisoformat(Last_date_str)\n",
    "\n",
    "# Calculate the date one year from the last date in data set.\n",
    "Prev_Last_date = dt.date(Last_date.year-1,Last_date.month,Last_date.day)\n",
    "Prev_Last_date\n"
   ]
  },
  {
   "cell_type": "code",
   "execution_count": 7,
   "id": "a69701d2-38d8-409a-9482-7c8ba4bd41c9",
   "metadata": {
    "tags": []
   },
   "outputs": [],
   "source": [
    "# Perform a query to retrieve the data and precipitation scores\n",
    "ann_prcp = session.query(Measurement.date,func.max(Measurement.prcp)).\\\n",
    "    filter(Measurement.date >= func.strftime(\"%Y-%m-%d\",Prev_Last_date)).\\\n",
    "    group_by(Measurement.date).\\\n",
    "    order_by(Measurement.date).all()\n",
    "\n",
    "# Save the query results as a Pandas DataFrame and set the index to the date column\n",
    "df = pd.DataFrame(ann_prcp, columns=['date', 'prcp'])\n",
    "df.set_index('date', inplace=True)"
   ]
  },
  {
   "cell_type": "code",
   "execution_count": 8,
   "id": "80798557-d6fb-4be2-b5f3-7b51cc9d9b47",
   "metadata": {
    "tags": []
   },
   "outputs": [
    {
     "data": {
      "text/html": [
       "<div>\n",
       "<style scoped>\n",
       "    .dataframe tbody tr th:only-of-type {\n",
       "        vertical-align: middle;\n",
       "    }\n",
       "\n",
       "    .dataframe tbody tr th {\n",
       "        vertical-align: top;\n",
       "    }\n",
       "\n",
       "    .dataframe thead th {\n",
       "        text-align: right;\n",
       "    }\n",
       "</style>\n",
       "<table border=\"1\" class=\"dataframe\">\n",
       "  <thead>\n",
       "    <tr style=\"text-align: right;\">\n",
       "      <th></th>\n",
       "      <th>Max</th>\n",
       "      <th>Min</th>\n",
       "      <th>Sum</th>\n",
       "      <th>Count</th>\n",
       "    </tr>\n",
       "    <tr>\n",
       "      <th>date</th>\n",
       "      <th></th>\n",
       "      <th></th>\n",
       "      <th></th>\n",
       "      <th></th>\n",
       "    </tr>\n",
       "  </thead>\n",
       "  <tbody>\n",
       "    <tr>\n",
       "      <th>2016-08-23</th>\n",
       "      <td>45.5</td>\n",
       "      <td>0.0</td>\n",
       "      <td>68.9</td>\n",
       "      <td>6</td>\n",
       "    </tr>\n",
       "    <tr>\n",
       "      <th>2016-08-24</th>\n",
       "      <td>57.9</td>\n",
       "      <td>2.0</td>\n",
       "      <td>236.9</td>\n",
       "      <td>6</td>\n",
       "    </tr>\n",
       "    <tr>\n",
       "      <th>2016-08-25</th>\n",
       "      <td>5.3</td>\n",
       "      <td>0.0</td>\n",
       "      <td>13.6</td>\n",
       "      <td>7</td>\n",
       "    </tr>\n",
       "    <tr>\n",
       "      <th>2016-08-26</th>\n",
       "      <td>1.0</td>\n",
       "      <td>0.0</td>\n",
       "      <td>2.6</td>\n",
       "      <td>6</td>\n",
       "    </tr>\n",
       "    <tr>\n",
       "      <th>2016-08-27</th>\n",
       "      <td>4.6</td>\n",
       "      <td>0.0</td>\n",
       "      <td>8.1</td>\n",
       "      <td>5</td>\n",
       "    </tr>\n",
       "    <tr>\n",
       "      <th>...</th>\n",
       "      <td>...</td>\n",
       "      <td>...</td>\n",
       "      <td>...</td>\n",
       "      <td>...</td>\n",
       "    </tr>\n",
       "    <tr>\n",
       "      <th>2017-08-19</th>\n",
       "      <td>2.3</td>\n",
       "      <td>0.0</td>\n",
       "      <td>2.3</td>\n",
       "      <td>3</td>\n",
       "    </tr>\n",
       "    <tr>\n",
       "      <th>2017-08-20</th>\n",
       "      <td>0.3</td>\n",
       "      <td>0.0</td>\n",
       "      <td>0.3</td>\n",
       "      <td>2</td>\n",
       "    </tr>\n",
       "    <tr>\n",
       "      <th>2017-08-21</th>\n",
       "      <td>14.2</td>\n",
       "      <td>0.0</td>\n",
       "      <td>14.7</td>\n",
       "      <td>3</td>\n",
       "    </tr>\n",
       "    <tr>\n",
       "      <th>2017-08-22</th>\n",
       "      <td>12.7</td>\n",
       "      <td>0.0</td>\n",
       "      <td>12.7</td>\n",
       "      <td>3</td>\n",
       "    </tr>\n",
       "    <tr>\n",
       "      <th>2017-08-23</th>\n",
       "      <td>11.4</td>\n",
       "      <td>0.0</td>\n",
       "      <td>13.4</td>\n",
       "      <td>4</td>\n",
       "    </tr>\n",
       "  </tbody>\n",
       "</table>\n",
       "<p>366 rows × 4 columns</p>\n",
       "</div>"
      ],
      "text/plain": [
       "             Max  Min    Sum  Count\n",
       "date                               \n",
       "2016-08-23  45.5  0.0   68.9      6\n",
       "2016-08-24  57.9  2.0  236.9      6\n",
       "2016-08-25   5.3  0.0   13.6      7\n",
       "2016-08-26   1.0  0.0    2.6      6\n",
       "2016-08-27   4.6  0.0    8.1      5\n",
       "...          ...  ...    ...    ...\n",
       "2017-08-19   2.3  0.0    2.3      3\n",
       "2017-08-20   0.3  0.0    0.3      2\n",
       "2017-08-21  14.2  0.0   14.7      3\n",
       "2017-08-22  12.7  0.0   12.7      3\n",
       "2017-08-23  11.4  0.0   13.4      4\n",
       "\n",
       "[366 rows x 4 columns]"
      ]
     },
     "execution_count": 8,
     "metadata": {},
     "output_type": "execute_result"
    }
   ],
   "source": [
    "# Use Pandas to calcualte the summary statistics for the precipitation data\n",
    "\n",
    "qy_ann_prcp = session.query(Measurement.date,Measurement.prcp).\\\n",
    "    filter(Measurement.date >= func.strftime(\"%Y-%m-%d\",Prev_Last_date)).\\\n",
    "    order_by(Measurement.date).all()\n",
    "\n",
    "df_ann_prcp = pd.DataFrame(qy_ann_prcp, columns=['date', 'prcp'])\n",
    "df_ann_prcp.set_index('date', inplace=True)\n",
    "df_ann_prcp\n",
    "ann_prcp_max = df_ann_prcp.groupby([\"date\"]).max()[\"prcp\"] \n",
    "ann_prcp_min = df_ann_prcp.groupby([\"date\"]).min()[\"prcp\"] \n",
    "ann_prcp_sum = df_ann_prcp.groupby([\"date\"]).sum()[\"prcp\"] \n",
    "ann_prcp_count = df_ann_prcp.groupby([\"date\"]).count()[\"prcp\"] \n",
    "\n",
    "dict_ann_prcp = {\"Max\": ann_prcp_max\n",
    "                 ,\"Min\":ann_prcp_min\n",
    "                 ,\"Sum\":ann_prcp_sum\n",
    "                 ,\"Count\":ann_prcp_count \n",
    "                }\n",
    "\n",
    "df_ann_prcp_summary = pd.DataFrame(dict_ann_prcp)\n",
    "df_ann_prcp_summary"
   ]
  },
  {
   "cell_type": "code",
   "execution_count": 9,
   "id": "f26e474b-5e2a-4dd4-965a-d48a55ca0ea0",
   "metadata": {
    "tags": []
   },
   "outputs": [
    {
     "data": {
      "text/plain": [
       "9"
      ]
     },
     "execution_count": 9,
     "metadata": {},
     "output_type": "execute_result"
    }
   ],
   "source": [
    "# Design a query to calculate the total number stations in the dataset\n",
    "active_stations = session.query(Station.station).count()\n",
    "active_stations"
   ]
  },
  {
   "cell_type": "code",
   "execution_count": 10,
   "id": "627e5afc-84b0-4536-bb39-2d69ece12fdb",
   "metadata": {
    "tags": []
   },
   "outputs": [
    {
     "data": {
      "text/plain": [
       "[('USC00519281', 2772),\n",
       " ('USC00519397', 2724),\n",
       " ('USC00513117', 2709),\n",
       " ('USC00519523', 2669),\n",
       " ('USC00516128', 2612),\n",
       " ('USC00514830', 2202),\n",
       " ('USC00511918', 1979),\n",
       " ('USC00517948', 1372),\n",
       " ('USC00518838', 511)]"
      ]
     },
     "execution_count": 10,
     "metadata": {},
     "output_type": "execute_result"
    }
   ],
   "source": [
    "# Design a query to find the most active stations (i.e. what stations have the most rows?)\n",
    "# List the stations and the counts in descending order.\n",
    "qry_most_active_stations = session.query(Measurement.station,func.count(Measurement.station)).\\\n",
    "    group_by(Measurement.station).\\\n",
    "    order_by(func.count(Measurement.station).desc())\n",
    "\n",
    "all_most_active_stations = qry_most_active_stations.all()\n",
    "all_most_active_stations"
   ]
  },
  {
   "cell_type": "code",
   "execution_count": 11,
   "id": "1cd4fa0f-e33e-4009-bac2-420f5ec3328c",
   "metadata": {
    "tags": []
   },
   "outputs": [
    {
     "data": {
      "text/plain": [
       "[(12.2, 29.4, 22.03582251082252)]"
      ]
     },
     "execution_count": 11,
     "metadata": {},
     "output_type": "execute_result"
    }
   ],
   "source": [
    "# Using the most active station id from the previous query, calculate the lowest, highest, and average temperature.\n",
    "most_active_station_id = qry_most_active_stations.first()[0]\n",
    "most_active_station_id\n",
    "\n",
    "temp_summ = session.query(func.min(Measurement.tobs),func.max(Measurement.tobs),func.avg(Measurement.tobs)).\\\n",
    "    filter(Measurement.station == most_active_station_id).all()\n",
    "\n",
    "temp_summ\n"
   ]
  },
  {
   "cell_type": "code",
   "execution_count": 12,
   "id": "3c19d869-1e76-4f5d-b4a9-b5141577fc6d",
   "metadata": {
    "tags": []
   },
   "outputs": [],
   "source": [
    "# Using the most active station id\n",
    "# Query the last 12 months of temperature observation data for this station and plot the results as a histogram\n",
    "\n",
    "qry_ann_tobs = session.query(Measurement.date,Measurement.tobs).\\\n",
    "    filter(Measurement.date >= func.strftime(\"%Y-%m-%d\",Prev_Last_date), Measurement.station == most_active_station_id).\\\n",
    "    order_by(Measurement.date).all()\n",
    "\n",
    "df_ann_tobs = pd.DataFrame(qry_ann_tobs, columns=['date', 'tobs'])\n",
    "df_ann_tobs.set_index('date', inplace=True)\n",
    "\n",
    "qryStations = session.query(Station.station,Station.name, Station.latitude, Station.longitude, Station.elevation).all()\n",
    "df_stations = pd.DataFrame(qryStations, columns=['station', 'name','latitude','longitude','elevation'])\n",
    "df_stations.set_index('station', inplace=True) "
   ]
  },
  {
   "cell_type": "code",
   "execution_count": 13,
   "id": "142cb094-dbc5-4a6f-b481-ab0268252116",
   "metadata": {
    "tags": []
   },
   "outputs": [],
   "source": [
    "# Close Session\n",
    "session.close()"
   ]
  },
  {
   "cell_type": "code",
   "execution_count": 14,
   "id": "5b8a5333-17ee-4ee1-9319-534bf8816c11",
   "metadata": {
    "tags": []
   },
   "outputs": [],
   "source": [
    "app = Flask(__name__)"
   ]
  },
  {
   "cell_type": "code",
   "execution_count": 15,
   "id": "a1014c90-9cd9-47a0-b9db-0f2cbf8fec60",
   "metadata": {
    "tags": []
   },
   "outputs": [],
   "source": [
    "@app.route(\"/\")\n",
    "def index():\n",
    "    return (\n",
    "        f\"Available Routes:<br/>\"\n",
    "        f\"/api/v1.0/precipitation<br/>\"\n",
    "        f\"/api/v1.0/stations<br/>\"\n",
    "        f\"/api/v1.0/tobs<br/>\"\n",
    "        f\"/api/v1.0/&lt;start&gt;<br/>\"\n",
    "        f\"/api/v1.0/&lt;start&gt;/&lt;end&gt;<br/>\"\n",
    "    )"
   ]
  },
  {
   "cell_type": "code",
   "execution_count": 16,
   "id": "3d874a73-6c99-4b51-9a04-8c26952f1057",
   "metadata": {
    "tags": []
   },
   "outputs": [],
   "source": [
    "@app.route(\"/api/v1.0/precipitation\")\n",
    "def precipitation():\n",
    "    result={}\n",
    "    for index, row in df_ann_prcp_summary.iterrows():\n",
    "        result[index]=dict(row)\n",
    "    return jsonify(result) "
   ]
  },
  {
   "cell_type": "code",
   "execution_count": 17,
   "id": "efeeb3bc-8b1c-41a5-9421-177d6252a54c",
   "metadata": {
    "tags": []
   },
   "outputs": [],
   "source": [
    "@app.route(\"/api/v1.0/stations\")\n",
    "def stations():\n",
    "    result={}\n",
    "    for index, row in df_stations.iterrows():\n",
    "        result[index]=dict(row)\n",
    "    return jsonify(result) "
   ]
  },
  {
   "cell_type": "code",
   "execution_count": 18,
   "id": "b8fa02c3-2aad-461c-9a68-c7a8970cb4cf",
   "metadata": {
    "tags": []
   },
   "outputs": [],
   "source": [
    "@app.route(\"/api/v1.0/tobs\")\n",
    "def tobs():\n",
    "    result={}\n",
    "    for index, row in df_ann_tobs.iterrows():\n",
    "        result[index]=dict(row)   \n",
    "    return jsonify(result)"
   ]
  },
  {
   "cell_type": "code",
   "execution_count": 19,
   "id": "d2a86512-326e-4249-8dc0-d387d47a6ed9",
   "metadata": {
    "tags": []
   },
   "outputs": [],
   "source": [
    "@app.route(\"/api/v1.0/<start>\")\n",
    "def fromstartdate(start):\n",
    "    session = Session(engine)\n",
    "    qry_fr_start_date = session.query(\n",
    "            func.max(Measurement.tobs).label(\"TMAX\"),\n",
    "            func.avg(Measurement.tobs).label(\"TAVG\"),\n",
    "            func.min(Measurement.tobs).label(\"TMIN\")\n",
    "            ).\\\n",
    "        filter(Measurement.date >= start).all()\n",
    "\n",
    "    df_fr_start_date = pd.DataFrame(qry_fr_start_date, columns=['TMAX', 'TAVG', 'TMIN'])\n",
    "    result = df_fr_start_date.iloc[0].to_dict()\n",
    "\n",
    "    session.close()\n",
    "    return jsonify(result)"
   ]
  },
  {
   "cell_type": "code",
   "execution_count": 20,
   "id": "5978893f-1890-4808-a85d-eb7d9c20c91f",
   "metadata": {
    "tags": []
   },
   "outputs": [],
   "source": [
    "@app.route(\"/api/v1.0/<start>/<end>\")\n",
    "def fromrange(start,end):\n",
    "    session = Session(engine)\n",
    "    qry_fromrange = session.query(\n",
    "            func.max(Measurement.tobs).label(\"TMAX\"),\n",
    "            func.avg(Measurement.tobs).label(\"TAVG\"),\n",
    "            func.min(Measurement.tobs).label(\"TMIN\")\n",
    "            ).\\\n",
    "        filter(Measurement.date >= start, Measurement.date <= end).all()\n",
    "\n",
    "    df_fromrange = pd.DataFrame(qry_fromrange, columns=['TMAX', 'TAVG', 'TMIN'])\n",
    "    result = df_fromrange.iloc[0].to_dict()\n",
    "\n",
    "    session.close()\n",
    "    return jsonify(result)"
   ]
  },
  {
   "cell_type": "code",
   "execution_count": 22,
   "id": "fc153b7d-12af-4258-b33f-f90dac05410e",
   "metadata": {
    "tags": []
   },
   "outputs": [
    {
     "name": "stdout",
     "output_type": "stream",
     "text": [
      " * Serving Flask app '__main__'\n",
      " * Debug mode: on\n"
     ]
    },
    {
     "name": "stderr",
     "output_type": "stream",
     "text": [
      "WARNING: This is a development server. Do not use it in a production deployment. Use a production WSGI server instead.\n",
      " * Running on http://127.0.0.1:5000\n",
      "Press CTRL+C to quit\n",
      " * Restarting with stat\n"
     ]
    },
    {
     "ename": "SystemExit",
     "evalue": "1",
     "output_type": "error",
     "traceback": [
      "An exception has occurred, use %tb to see the full traceback.\n",
      "\u001b[1;31mSystemExit\u001b[0m\u001b[1;31m:\u001b[0m 1\n"
     ]
    },
    {
     "name": "stderr",
     "output_type": "stream",
     "text": [
      "C:\\Users\\wambu\\anaconda3\\envs\\PythonData\\Lib\\site-packages\\IPython\\core\\interactiveshell.py:3513: UserWarning: To exit: use 'exit', 'quit', or Ctrl-D.\n",
      "  warn(\"To exit: use 'exit', 'quit', or Ctrl-D.\", stacklevel=1)\n"
     ]
    }
   ],
   "source": [
    "if __name__ == \"__main__\":\n",
    "    app.run(debug=True)\n"
   ]
  },
  {
   "cell_type": "code",
   "execution_count": null,
   "id": "cf0146f0-5ec7-4191-9a8d-470a0370cdd1",
   "metadata": {},
   "outputs": [],
   "source": []
  }
 ],
 "metadata": {
  "kernelspec": {
   "display_name": "“PythonData”",
   "language": "python",
   "name": "pythondata"
  },
  "language_info": {
   "codemirror_mode": {
    "name": "ipython",
    "version": 3
   },
   "file_extension": ".py",
   "mimetype": "text/x-python",
   "name": "python",
   "nbconvert_exporter": "python",
   "pygments_lexer": "ipython3",
   "version": "3.11.4"
  }
 },
 "nbformat": 4,
 "nbformat_minor": 5
}
