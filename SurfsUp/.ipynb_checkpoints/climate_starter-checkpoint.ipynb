{
 "cells": [
  {
   "cell_type": "code",
   "execution_count": 2,
   "metadata": {
    "tags": []
   },
   "outputs": [],
   "source": [
    "%matplotlib inline\n",
    "from matplotlib import style\n",
    "style.use('fivethirtyeight')\n",
    "import matplotlib.pyplot as plt"
   ]
  },
  {
   "cell_type": "code",
   "execution_count": 3,
   "metadata": {
    "tags": []
   },
   "outputs": [],
   "source": [
    "import numpy as np\n",
    "import pandas as pd\n",
    "import datetime as dt"
   ]
  },
  {
   "cell_type": "markdown",
   "metadata": {},
   "source": [
    "# Reflect Tables into SQLAlchemy ORM"
   ]
  },
  {
   "cell_type": "code",
   "execution_count": 4,
   "metadata": {
    "tags": []
   },
   "outputs": [],
   "source": [
    "# Python SQL toolkit and Object Relational Mapper\n",
    "import sqlalchemy\n",
    "from sqlalchemy.ext.automap import automap_base\n",
    "from sqlalchemy.orm import Session\n",
    "from sqlalchemy import create_engine, func\n",
    "from sqlalchemy import Column, Integer, String, Float\n",
    "from sqlalchemy.types import Date"
   ]
  },
  {
   "cell_type": "code",
   "execution_count": 5,
   "metadata": {
    "tags": []
   },
   "outputs": [],
   "source": [
    "# create engine to hawaii.sqlite\n",
    "engine = create_engine(\"sqlite:///Resources/hawaii.sqlite\")"
   ]
  },
  {
   "cell_type": "code",
   "execution_count": 12,
   "metadata": {
    "tags": []
   },
   "outputs": [],
   "source": [
    "# reflect an existing database into a new model\n",
    "Base = automap_base()\n",
    "# reflect the tables\n",
    "Base.prepare(engine, reflect=True)\n"
   ]
  },
  {
   "cell_type": "code",
   "execution_count": 7,
   "metadata": {
    "tags": []
   },
   "outputs": [
    {
     "data": {
      "text/plain": [
       "['measurement', 'station']"
      ]
     },
     "execution_count": 7,
     "metadata": {},
     "output_type": "execute_result"
    }
   ],
   "source": [
    "# View all of the classes that automap found\n",
    "Base.classes.keys()"
   ]
  },
  {
   "cell_type": "code",
   "execution_count": 6,
   "metadata": {},
   "outputs": [
    {
     "data": {
      "text/plain": [
       "['measurement', 'station']"
      ]
     },
     "execution_count": 6,
     "metadata": {},
     "output_type": "execute_result"
    }
   ],
   "source": []
  },
  {
   "cell_type": "code",
   "execution_count": 8,
   "metadata": {
    "tags": []
   },
   "outputs": [],
   "source": [
    "# Save references to each table\n",
    "Measurement = Base.classes.measurement\n",
    "Station = Base.classes.station"
   ]
  },
  {
   "cell_type": "code",
   "execution_count": 9,
   "metadata": {
    "tags": []
   },
   "outputs": [],
   "source": [
    "Base = automap_base()\n",
    "Base.prepare(engine, reflect=True)\n",
    "Measurement = Base.classes.measurement\n",
    "Station = Base.classes.station"
   ]
  },
  {
   "cell_type": "code",
   "execution_count": 10,
   "metadata": {
    "tags": []
   },
   "outputs": [],
   "source": [
    "# Create our session (link) from Python to the DB\n",
    "session = Session(engine)"
   ]
  },
  {
   "cell_type": "code",
   "execution_count": 11,
   "metadata": {
    "tags": []
   },
   "outputs": [],
   "source": [
    "# Query Measurement for id`, `station`, date, prcp, tobs and `data` and save the query into results\n",
    "id=[]\n",
    "station=[]\n",
    "date=[]\n",
    "prcp=[]\n",
    "tobs=[]\n",
    "data=[]\n",
    "for row in session.query(Measurement.id, Measurement.station, Measurement.date, Measurement.prcp, Measurement.tobs).all():\n",
    "    id.append(row[0])\n",
    "    station.append(row[1])\n",
    "    date.append(row[2])\n",
    "    prcp.append(row[3])\n",
    "    tobs.append(row[4])\n"
   ]
  },
  {
   "cell_type": "markdown",
   "metadata": {},
   "source": [
    "# Exploratory Precipitation Analysis"
   ]
  },
  {
   "cell_type": "code",
   "execution_count": 13,
   "metadata": {
    "tags": []
   },
   "outputs": [
    {
     "data": {
      "text/plain": [
       "'2017-08-23'"
      ]
     },
     "execution_count": 13,
     "metadata": {},
     "output_type": "execute_result"
    }
   ],
   "source": [
    "# Find the most recent date in the data set.\n",
    "latest_date = session.query(Measurement.date).order_by(Measurement.date.desc()).first().date\n",
    "latest_date"
   ]
  },
  {
   "cell_type": "code",
   "execution_count": 9,
   "metadata": {},
   "outputs": [
    {
     "data": {
      "text/plain": [
       "('2017-08-23',)"
      ]
     },
     "execution_count": 9,
     "metadata": {},
     "output_type": "execute_result"
    }
   ],
   "source": []
  },
  {
   "cell_type": "code",
   "execution_count": 14,
   "metadata": {
    "tags": []
   },
   "outputs": [],
   "source": [
    "# Design a query to retrieve the last 12 months of precipitation data and plot the results.\n",
    "\n",
    "recent_prcp = session.query(Measurement.date, Measurement.prcp)\\\n",
    "    .filter(Measurement.date > '2016-08-22')\\\n",
    "    .filter(Measurement.date <= '2017-08-23')\\\n",
    "    .order_by(Measurement.date).all()\n",
    "        \n",
    "# pprint(recent_prcp)"
   ]
  },
  {
   "cell_type": "code",
   "execution_count": 15,
   "metadata": {
    "tags": []
   },
   "outputs": [
    {
     "data": {
      "text/plain": [
       "datetime.datetime(2016, 8, 23, 0, 0)"
      ]
     },
     "execution_count": 15,
     "metadata": {},
     "output_type": "execute_result"
    }
   ],
   "source": [
    "# Starting from the most recent data point in the database. \n",
    "# Calculate the date one year from the last date in data set.\n",
    "last_twelve_months = dt.datetime.strptime(latest_date, '%Y-%m-%d') - dt.timedelta(days=365)\n",
    "last_twelve_months"
   ]
  },
  {
   "cell_type": "code",
   "execution_count": 16,
   "metadata": {
    "tags": []
   },
   "outputs": [
    {
     "data": {
      "text/plain": [
       "[('2016-08-24', 39.48333333333333),\n",
       " ('2016-08-25', 1.942857142857143),\n",
       " ('2016-08-26', 0.4333333333333333),\n",
       " ('2016-08-27', 1.6199999999999999),\n",
       " ('2016-08-28', 13.15),\n",
       " ('2016-08-29', 6.183333333333333),\n",
       " ('2016-08-30', 0.3),\n",
       " ('2016-08-31', 16.16),\n",
       " ('2016-09-01', 0.16),\n",
       " ('2016-09-02', 1.2799999999999998),\n",
       " ('2016-09-03', 6.4399999999999995),\n",
       " ('2016-09-04', 7.040000000000001),\n",
       " ('2016-09-05', 2.175),\n",
       " ('2016-09-06', 6.26),\n",
       " ('2016-09-07', 8.466666666666667),\n",
       " ('2016-09-08', 1.9666666666666666),\n",
       " ('2016-09-09', 4.55),\n",
       " ('2016-09-10', 7.140000000000001),\n",
       " ('2016-09-11', 6.34),\n",
       " ('2016-09-12', 7.8199999999999985),\n",
       " ('2016-09-13', 11.466666666666667),\n",
       " ('2016-09-14', 60.449999999999996),\n",
       " ('2016-09-15', 21.0),\n",
       " ('2016-09-16', 2.9857142857142853),\n",
       " ('2016-09-17', 3.44),\n",
       " ('2016-09-18', 2.7),\n",
       " ('2016-09-19', 1.6600000000000001),\n",
       " ('2016-09-20', 3.742857142857143),\n",
       " ('2016-09-21', 4.95),\n",
       " ('2016-09-22', 5.214285714285714),\n",
       " ('2016-09-23', 5.7),\n",
       " ('2016-09-24', 1.2),\n",
       " ('2016-09-25', 0.3833333333333333),\n",
       " ('2016-09-26', 7.05),\n",
       " ('2016-09-27', 5.75),\n",
       " ('2016-09-28', 0.4714285714285714),\n",
       " ('2016-09-29', 10.842857142857143),\n",
       " ('2016-09-30', 4.883333333333334),\n",
       " ('2016-10-01', 6.1499999999999995),\n",
       " ('2016-10-02', 3.0500000000000003),\n",
       " ('2016-10-03', 2.933333333333333),\n",
       " ('2016-10-04', 14.783333333333333),\n",
       " ('2016-10-05', 3.483333333333334),\n",
       " ('2016-10-06', 0.5857142857142856),\n",
       " ('2016-10-07', 0.049999999999999996),\n",
       " ('2016-10-08', 0.2),\n",
       " ('2016-10-09', 0.0),\n",
       " ('2016-10-10', 0.0),\n",
       " ('2016-10-11', 2.9166666666666665),\n",
       " ('2016-10-12', 0.35000000000000003),\n",
       " ('2016-10-13', 0.3333333333333333),\n",
       " ('2016-10-14', 0.0),\n",
       " ('2016-10-15', 1.6500000000000001),\n",
       " ('2016-10-16', 0.0),\n",
       " ('2016-10-17', 2.8199999999999994),\n",
       " ('2016-10-18', 2.55),\n",
       " ('2016-10-19', 0.7166666666666667),\n",
       " ('2016-10-20', 5.14),\n",
       " ('2016-10-21', 1.64),\n",
       " ('2016-10-22', 8.98),\n",
       " ('2016-10-23', 1.44),\n",
       " ('2016-10-24', 3.35),\n",
       " ('2016-10-25', 4.0),\n",
       " ('2016-10-26', 1.2333333333333332),\n",
       " ('2016-10-27', 7.883333333333333),\n",
       " ('2016-10-28', 2.4166666666666665),\n",
       " ('2016-10-29', 2.7166666666666663),\n",
       " ('2016-10-30', 6.733333333333333),\n",
       " ('2016-10-31', 6.833333333333333),\n",
       " ('2016-11-01', 0.9),\n",
       " ('2016-11-02', 0.16666666666666666),\n",
       " ('2016-11-03', 0.08333333333333333),\n",
       " ('2016-11-04', 0.25),\n",
       " ('2016-11-05', 1.9166666666666667),\n",
       " ('2016-11-06', 0.35000000000000003),\n",
       " ('2016-11-07', 0.7666666666666666),\n",
       " ('2016-11-08', 4.75),\n",
       " ('2016-11-09', 1.4428571428571428),\n",
       " ('2016-11-10', 0.049999999999999996),\n",
       " ('2016-11-11', 0.0),\n",
       " ('2016-11-12', 0.0),\n",
       " ('2016-11-13', 0.0),\n",
       " ('2016-11-14', 0.5428571428571428),\n",
       " ('2016-11-15', 0.21666666666666667),\n",
       " ('2016-11-16', 6.533333333333334),\n",
       " ('2016-11-17', 0.26666666666666666),\n",
       " ('2016-11-18', 0.2),\n",
       " ('2016-11-19', 2.425),\n",
       " ('2016-11-20', 6.05),\n",
       " ('2016-11-21', 15.660000000000002),\n",
       " ('2016-11-22', 25.46),\n",
       " ('2016-11-23', 3.4400000000000004),\n",
       " ('2016-11-24', 7.519999999999999),\n",
       " ('2016-11-25', 6.720000000000001),\n",
       " ('2016-11-26', 2.1666666666666665),\n",
       " ('2016-11-27', 2.3333333333333335),\n",
       " ('2016-11-28', 3.0500000000000003),\n",
       " ('2016-11-29', 1.8166666666666664),\n",
       " ('2016-11-30', 4.516666666666667),\n",
       " ('2016-12-01', 7.5),\n",
       " ('2016-12-02', 10.016666666666667),\n",
       " ('2016-12-03', 11.466666666666669),\n",
       " ('2016-12-04', 3.383333333333333),\n",
       " ('2016-12-05', 13.700000000000001),\n",
       " ('2016-12-06', 0.2),\n",
       " ('2016-12-07', 1.92),\n",
       " ('2016-12-08', 1.7000000000000004),\n",
       " ('2016-12-09', 9.4),\n",
       " ('2016-12-10', 0.6599999999999999),\n",
       " ('2016-12-11', 1.26),\n",
       " ('2016-12-12', 0.23333333333333336),\n",
       " ('2016-12-13', 3.25),\n",
       " ('2016-12-14', 6.366666666666666),\n",
       " ('2016-12-15', 1.1166666666666667),\n",
       " ('2016-12-16', 0.18333333333333335),\n",
       " ('2016-12-17', 1.8),\n",
       " ('2016-12-18', 4.540000000000001),\n",
       " ('2016-12-19', 1.7833333333333332),\n",
       " ('2016-12-20', 0.13333333333333333),\n",
       " ('2016-12-21', 3.2714285714285714),\n",
       " ('2016-12-22', 10.466666666666667),\n",
       " ('2016-12-23', 5.216666666666667),\n",
       " ('2016-12-24', 6.866666666666666),\n",
       " ('2016-12-25', 2.2),\n",
       " ('2016-12-26', 10.36),\n",
       " ('2016-12-27', 1.0333333333333334),\n",
       " ('2016-12-28', 1.75),\n",
       " ('2016-12-29', 10.083333333333334),\n",
       " ('2016-12-30', 14.183333333333332),\n",
       " ('2016-12-31', 10.879999999999999),\n",
       " ('2017-01-01', 1.8000000000000003),\n",
       " ('2017-01-02', 0.12),\n",
       " ('2017-01-03', 0.0),\n",
       " ('2017-01-04', 0.7666666666666666),\n",
       " ('2017-01-05', 4.016666666666667),\n",
       " ('2017-01-06', 3.3833333333333333),\n",
       " ('2017-01-07', 0.25),\n",
       " ('2017-01-08', 0.26666666666666666),\n",
       " ('2017-01-09', 0.0),\n",
       " ('2017-01-10', 0.0),\n",
       " ('2017-01-11', 0.0),\n",
       " ('2017-01-12', 0.0),\n",
       " ('2017-01-13', 0.0),\n",
       " ('2017-01-14', 0.06),\n",
       " ('2017-01-15', 0.075),\n",
       " ('2017-01-16', 0.0),\n",
       " ('2017-01-17', 0.0),\n",
       " ('2017-01-18', 0.3),\n",
       " ('2017-01-19', 0.08333333333333333),\n",
       " ('2017-01-20', 0.0),\n",
       " ('2017-01-21', 1.1833333333333333),\n",
       " ('2017-01-22', 5.2),\n",
       " ('2017-01-23', 4.78),\n",
       " ('2017-01-24', 11.42),\n",
       " ('2017-01-25', 18.2),\n",
       " ('2017-01-26', 0.39999999999999997),\n",
       " ('2017-01-27', 0.2285714285714286),\n",
       " ('2017-01-28', 0.72),\n",
       " ('2017-01-29', 6.3),\n",
       " ('2017-01-30', 0.21666666666666667),\n",
       " ('2017-01-31', 0.0),\n",
       " ('2017-02-01', 0.0),\n",
       " ('2017-02-02', 0.0),\n",
       " ('2017-02-03', 0.0),\n",
       " ('2017-02-04', 0.0),\n",
       " ('2017-02-05', 0.0),\n",
       " ('2017-02-06', 1.6166666666666665),\n",
       " ('2017-02-07', 26.857142857142858),\n",
       " ('2017-02-08', 3.914285714285714),\n",
       " ('2017-02-09', 0.07142857142857142),\n",
       " ('2017-02-10', 0.0),\n",
       " ('2017-02-11', 47.4),\n",
       " ('2017-02-12', 44.36666666666667),\n",
       " ('2017-02-13', 12.383333333333333),\n",
       " ('2017-02-14', 0.049999999999999996),\n",
       " ('2017-02-15', 0.42000000000000004),\n",
       " ('2017-02-16', 9.383333333333333),\n",
       " ('2017-02-17', 4.433333333333334),\n",
       " ('2017-02-18', 0.075),\n",
       " ('2017-02-19', 1.2),\n",
       " ('2017-02-20', 0.0),\n",
       " ('2017-02-21', 0.6599999999999999),\n",
       " ('2017-02-22', 3.2857142857142856),\n",
       " ('2017-02-23', 0.04285714285714286),\n",
       " ('2017-02-24', 0.0),\n",
       " ('2017-02-25', 0.95),\n",
       " ('2017-02-26', 0.0),\n",
       " ('2017-02-27', 0.0),\n",
       " ('2017-02-28', 3.4666666666666663),\n",
       " ('2017-03-01', 42.15714285714286),\n",
       " ('2017-03-02', 27.766666666666662),\n",
       " ('2017-03-03', 9.450000000000001),\n",
       " ('2017-03-04', 0.0),\n",
       " ('2017-03-05', 7.675000000000001),\n",
       " ('2017-03-06', 3.45),\n",
       " ('2017-03-07', 0.0),\n",
       " ('2017-03-08', 0.0),\n",
       " ('2017-03-09', 8.299999999999999),\n",
       " ('2017-03-10', 1.0571428571428572),\n",
       " ('2017-03-11', 0.22000000000000003),\n",
       " ('2017-03-12', 0.0),\n",
       " ('2017-03-13', 0.0),\n",
       " ('2017-03-14', 0.21428571428571427),\n",
       " ('2017-03-15', 0.25),\n",
       " ('2017-03-16', 0.0),\n",
       " ('2017-03-17', 3.6399999999999997),\n",
       " ('2017-03-18', 0.0),\n",
       " ('2017-03-19', 0.0),\n",
       " ('2017-03-20', 0.1),\n",
       " ('2017-03-21', 0.3833333333333333),\n",
       " ('2017-03-22', 0.0),\n",
       " ('2017-03-23', 0.21666666666666667),\n",
       " ('2017-03-24', 4.766666666666667),\n",
       " ('2017-03-25', 10.0),\n",
       " ('2017-03-26', 0.0),\n",
       " ('2017-03-27', 0.06),\n",
       " ('2017-03-28', 3.016666666666667),\n",
       " ('2017-03-29', 0.8166666666666665),\n",
       " ('2017-03-30', 0.76),\n",
       " ('2017-03-31', 0.049999999999999996),\n",
       " ('2017-04-01', 1.7333333333333332),\n",
       " ('2017-04-02', 0.0),\n",
       " ('2017-04-03', 2.783333333333333),\n",
       " ('2017-04-04', 0.5428571428571428),\n",
       " ('2017-04-05', 2.3857142857142857),\n",
       " ('2017-04-06', 0.21428571428571427),\n",
       " ('2017-04-07', 0.0),\n",
       " ('2017-04-08', 0.0),\n",
       " ('2017-04-09', 0.0),\n",
       " ('2017-04-10', 0.09999999999999999),\n",
       " ('2017-04-11', 2.0166666666666666),\n",
       " ('2017-04-12', 4.583333333333333),\n",
       " ('2017-04-13', 4.616666666666666),\n",
       " ('2017-04-14', 28.433333333333334),\n",
       " ('2017-04-15', 8.86),\n",
       " ('2017-04-16', 5.42),\n",
       " ('2017-04-17', 15.580000000000002),\n",
       " ('2017-04-18', 12.185714285714287),\n",
       " ('2017-04-19', 0.85),\n",
       " ('2017-04-20', 3.316666666666667),\n",
       " ('2017-04-21', 35.46666666666667),\n",
       " ('2017-04-22', 25.199999999999996),\n",
       " ('2017-04-23', 2.925),\n",
       " ('2017-04-24', 0.4),\n",
       " ('2017-04-25', 0.0),\n",
       " ('2017-04-26', 1.6666666666666667),\n",
       " ('2017-04-27', 1.7666666666666666),\n",
       " ('2017-04-28', 17.95),\n",
       " ('2017-04-29', 34.03333333333334),\n",
       " ('2017-04-30', 27.166666666666668),\n",
       " ('2017-05-01', 3.4500000000000006),\n",
       " ('2017-05-02', 0.23333333333333336),\n",
       " ('2017-05-03', 0.18),\n",
       " ('2017-05-04', 0.4),\n",
       " ('2017-05-05', 1.5999999999999999),\n",
       " ('2017-05-06', 0.25),\n",
       " ('2017-05-07', 0.6199999999999999),\n",
       " ('2017-05-08', 12.733333333333334),\n",
       " ('2017-05-09', 23.499999999999996),\n",
       " ('2017-05-10', 3.65),\n",
       " ('2017-05-11', 3.0599999999999996),\n",
       " ('2017-05-12', 0.8),\n",
       " ('2017-05-13', 1.2),\n",
       " ('2017-05-14', 6.2),\n",
       " ('2017-05-15', 4.459999999999999),\n",
       " ('2017-05-16', 1.8),\n",
       " ('2017-05-17', 0.6333333333333333),\n",
       " ('2017-05-18', 3.6166666666666667),\n",
       " ('2017-05-19', 0.275),\n",
       " ('2017-05-20', 0.2),\n",
       " ('2017-05-21', 0.06),\n",
       " ('2017-05-22', 1.8199999999999998),\n",
       " ('2017-05-23', 3.0),\n",
       " ('2017-05-24', 16.45),\n",
       " ('2017-05-25', 9.416666666666666),\n",
       " ('2017-05-26', 0.1),\n",
       " ('2017-05-27', 2.1666666666666665),\n",
       " ('2017-05-28', 1.7333333333333334),\n",
       " ('2017-05-29', 2.1399999999999997),\n",
       " ('2017-05-30', 8.78),\n",
       " ('2017-05-31', 1.8800000000000001),\n",
       " ('2017-06-01', 0.18333333333333335),\n",
       " ('2017-06-02', 1.72),\n",
       " ('2017-06-03', 3.1),\n",
       " ('2017-06-04', 4.866666666666666),\n",
       " ('2017-06-05', 0.35000000000000003),\n",
       " ('2017-06-06', 0.0),\n",
       " ('2017-06-07', 0.049999999999999996),\n",
       " ('2017-06-08', 0.13333333333333333),\n",
       " ('2017-06-09', 0.2),\n",
       " ('2017-06-10', 7.76),\n",
       " ('2017-06-11', 9.116666666666667),\n",
       " ('2017-06-12', 7.416666666666667),\n",
       " ('2017-06-13', 5.833333333333333),\n",
       " ('2017-06-14', 6.6499999999999995),\n",
       " ('2017-06-15', 11.466666666666667),\n",
       " ('2017-06-16', 0.8333333333333334),\n",
       " ('2017-06-17', 2.2833333333333337),\n",
       " ('2017-06-18', 6.033333333333334),\n",
       " ('2017-06-19', 3.0999999999999996),\n",
       " ('2017-06-20', 2.8),\n",
       " ('2017-06-21', 3.2249999999999996),\n",
       " ('2017-06-22', 1.8499999999999999),\n",
       " ('2017-06-23', 2.8333333333333335),\n",
       " ('2017-06-24', 3.2399999999999998),\n",
       " ('2017-06-25', 3.04),\n",
       " ('2017-06-26', 0.5),\n",
       " ('2017-06-27', 0.4666666666666666),\n",
       " ('2017-06-28', 0.13333333333333333),\n",
       " ('2017-06-29', 0.3),\n",
       " ('2017-06-30', 1.8857142857142857),\n",
       " ('2017-07-01', 1.625),\n",
       " ('2017-07-02', 4.574999999999999),\n",
       " ('2017-07-03', 3.7599999999999993),\n",
       " ('2017-07-04', 0.95),\n",
       " ('2017-07-05', 0.0),\n",
       " ('2017-07-06', 0.1),\n",
       " ('2017-07-07', 2.54),\n",
       " ('2017-07-08', 0.4166666666666667),\n",
       " ('2017-07-09', 0.85),\n",
       " ('2017-07-10', 0.16666666666666666),\n",
       " ('2017-07-11', 0.13333333333333333),\n",
       " ('2017-07-12', 1.5333333333333332),\n",
       " ('2017-07-13', 7.666666666666667),\n",
       " ('2017-07-14', 4.033333333333333),\n",
       " ('2017-07-15', 0.8166666666666668),\n",
       " ('2017-07-16', 3.4166666666666665),\n",
       " ('2017-07-17', 3.85),\n",
       " ('2017-07-18', 9.200000000000001),\n",
       " ('2017-07-19', 1.75),\n",
       " ('2017-07-20', 4.5),\n",
       " ('2017-07-21', 0.4714285714285714),\n",
       " ('2017-07-22', 18.716666666666665),\n",
       " ('2017-07-23', 5.74),\n",
       " ('2017-07-24', 16.6),\n",
       " ('2017-07-25', 2.2142857142857144),\n",
       " ('2017-07-26', 2.1),\n",
       " ('2017-07-27', 0.049999999999999996),\n",
       " ('2017-07-28', 2.814285714285714),\n",
       " ('2017-07-29', 2.5666666666666664),\n",
       " ('2017-07-30', 1.52),\n",
       " ('2017-07-31', 0.0),\n",
       " ('2017-08-01', 1.1666666666666667),\n",
       " ('2017-08-02', 1.925),\n",
       " ('2017-08-03', 0.45),\n",
       " ('2017-08-04', 0.375),\n",
       " ('2017-08-05', 0.75),\n",
       " ('2017-08-06', 0.0),\n",
       " ('2017-08-07', 0.325),\n",
       " ('2017-08-08', 2.775),\n",
       " ('2017-08-09', 1.2666666666666666),\n",
       " ('2017-08-10', 0.45),\n",
       " ('2017-08-11', 0.0),\n",
       " ('2017-08-12', 1.2),\n",
       " ('2017-08-13', 0.0),\n",
       " ('2017-08-14', 1.5799999999999998),\n",
       " ('2017-08-15', 4.159999999999999),\n",
       " ('2017-08-16', 3.875),\n",
       " ('2017-08-17', 1.225),\n",
       " ('2017-08-18', 0.5),\n",
       " ('2017-08-19', 0.7666666666666666),\n",
       " ('2017-08-20', 0.15),\n",
       " ('2017-08-21', 4.8999999999999995),\n",
       " ('2017-08-22', 4.233333333333333),\n",
       " ('2017-08-23', 3.35)]"
      ]
     },
     "execution_count": 16,
     "metadata": {},
     "output_type": "execute_result"
    }
   ],
   "source": [
    "# Perform a query to retrieve the data and precipitation scores\n",
    "\n",
    "p_results = session.query(Measurement.date, func.avg(Measurement.prcp)).\\\n",
    "                    filter(Measurement.date >= last_twelve_months).\\\n",
    "                    group_by(Measurement.date).all()\n",
    "p_results"
   ]
  },
  {
   "cell_type": "code",
   "execution_count": 17,
   "metadata": {
    "tags": []
   },
   "outputs": [
    {
     "data": {
      "text/html": [
       "<div>\n",
       "<style scoped>\n",
       "    .dataframe tbody tr th:only-of-type {\n",
       "        vertical-align: middle;\n",
       "    }\n",
       "\n",
       "    .dataframe tbody tr th {\n",
       "        vertical-align: top;\n",
       "    }\n",
       "\n",
       "    .dataframe thead th {\n",
       "        text-align: right;\n",
       "    }\n",
       "</style>\n",
       "<table border=\"1\" class=\"dataframe\">\n",
       "  <thead>\n",
       "    <tr style=\"text-align: right;\">\n",
       "      <th></th>\n",
       "      <th>Precipitation</th>\n",
       "    </tr>\n",
       "    <tr>\n",
       "      <th>Date</th>\n",
       "      <th></th>\n",
       "    </tr>\n",
       "  </thead>\n",
       "  <tbody>\n",
       "    <tr>\n",
       "      <th>2016-08-23</th>\n",
       "      <td>0.0</td>\n",
       "    </tr>\n",
       "    <tr>\n",
       "      <th>2016-08-23</th>\n",
       "      <td>3.8</td>\n",
       "    </tr>\n",
       "    <tr>\n",
       "      <th>2016-08-23</th>\n",
       "      <td>1.3</td>\n",
       "    </tr>\n",
       "    <tr>\n",
       "      <th>2016-08-23</th>\n",
       "      <td>NaN</td>\n",
       "    </tr>\n",
       "    <tr>\n",
       "      <th>2016-08-23</th>\n",
       "      <td>0.5</td>\n",
       "    </tr>\n",
       "    <tr>\n",
       "      <th>...</th>\n",
       "      <td>...</td>\n",
       "    </tr>\n",
       "    <tr>\n",
       "      <th>2017-08-22</th>\n",
       "      <td>12.7</td>\n",
       "    </tr>\n",
       "    <tr>\n",
       "      <th>2017-08-23</th>\n",
       "      <td>0.0</td>\n",
       "    </tr>\n",
       "    <tr>\n",
       "      <th>2017-08-23</th>\n",
       "      <td>0.0</td>\n",
       "    </tr>\n",
       "    <tr>\n",
       "      <th>2017-08-23</th>\n",
       "      <td>2.0</td>\n",
       "    </tr>\n",
       "    <tr>\n",
       "      <th>2017-08-23</th>\n",
       "      <td>11.4</td>\n",
       "    </tr>\n",
       "  </tbody>\n",
       "</table>\n",
       "<p>2230 rows × 1 columns</p>\n",
       "</div>"
      ],
      "text/plain": [
       "            Precipitation\n",
       "Date                     \n",
       "2016-08-23            0.0\n",
       "2016-08-23            3.8\n",
       "2016-08-23            1.3\n",
       "2016-08-23            NaN\n",
       "2016-08-23            0.5\n",
       "...                   ...\n",
       "2017-08-22           12.7\n",
       "2017-08-23            0.0\n",
       "2017-08-23            0.0\n",
       "2017-08-23            2.0\n",
       "2017-08-23           11.4\n",
       "\n",
       "[2230 rows x 1 columns]"
      ]
     },
     "execution_count": 17,
     "metadata": {},
     "output_type": "execute_result"
    }
   ],
   "source": [
    "# Save the query results as a Pandas DataFrame. Explicitly set the column names\n",
    "\n",
    "\n",
    "# Sort the dataframe by date\n",
    "prcp_df = pd.DataFrame(recent_prcp, columns = [\"Date\", \"Precipitation\"])\n",
    "\n",
    "# set index to the date column\n",
    "\n",
    "prcp_df.set_index(\"Date\", inplace=True)\n",
    "\n",
    "prcp_df\n"
   ]
  },
  {
   "cell_type": "code",
   "execution_count": 18,
   "metadata": {
    "tags": []
   },
   "outputs": [],
   "source": [
    "# convert date column to datetime for formatting in plot\n",
    "\n",
    "prcp_df.index = pd.to_datetime(prcp_df.index, format=\"%Y/%m/%d\")"
   ]
  },
  {
   "cell_type": "code",
   "execution_count": 19,
   "metadata": {
    "tags": []
   },
   "outputs": [
    {
     "data": {
      "image/png": "[encoded data removed]",
      "text/plain": [
       "<Figure size 700x500 with 1 Axes>"
      ]
     },
     "metadata": {},
     "output_type": "display_data"
    },
    {
     "data": {
      "text/plain": [
       "<Figure size 640x480 with 0 Axes>"
      ]
     },
     "metadata": {},
     "output_type": "display_data"
    }
   ],
   "source": [
    "prcp_plot = prcp_df.plot(figsize=(7,5), ylim=(0,175), title = \"Daily Precipitation Over 12 months\", rot=90)\n",
    "prcp_plot.set_ylabel(\"mm\")\n",
    "prcp_plot.set_xlabel(\"Date (Month-Year)\")\n",
    "prcp_plot.grid()\n",
    "plt.show()\n",
    "\n",
    "plt.savefig(\"precipitation.png\")"
   ]
  },
  {
   "cell_type": "code",
   "execution_count": null,
   "metadata": {},
   "outputs": [],
   "source": []
  },
  {
   "cell_type": "code",
   "execution_count": 20,
   "metadata": {
    "tags": []
   },
   "outputs": [
    {
     "data": {
      "text/html": [
       "<div>\n",
       "<style scoped>\n",
       "    .dataframe tbody tr th:only-of-type {\n",
       "        vertical-align: middle;\n",
       "    }\n",
       "\n",
       "    .dataframe tbody tr th {\n",
       "        vertical-align: top;\n",
       "    }\n",
       "\n",
       "    .dataframe thead th {\n",
       "        text-align: right;\n",
       "    }\n",
       "</style>\n",
       "<table border=\"1\" class=\"dataframe\">\n",
       "  <thead>\n",
       "    <tr style=\"text-align: right;\">\n",
       "      <th></th>\n",
       "      <th>Precipitation</th>\n",
       "    </tr>\n",
       "  </thead>\n",
       "  <tbody>\n",
       "    <tr>\n",
       "      <th>count</th>\n",
       "      <td>2021.000000</td>\n",
       "    </tr>\n",
       "    <tr>\n",
       "      <th>mean</th>\n",
       "      <td>4.505888</td>\n",
       "    </tr>\n",
       "    <tr>\n",
       "      <th>std</th>\n",
       "      <td>11.713487</td>\n",
       "    </tr>\n",
       "    <tr>\n",
       "      <th>min</th>\n",
       "      <td>0.000000</td>\n",
       "    </tr>\n",
       "    <tr>\n",
       "      <th>25%</th>\n",
       "      <td>0.000000</td>\n",
       "    </tr>\n",
       "    <tr>\n",
       "      <th>50%</th>\n",
       "      <td>0.500000</td>\n",
       "    </tr>\n",
       "    <tr>\n",
       "      <th>75%</th>\n",
       "      <td>3.300000</td>\n",
       "    </tr>\n",
       "    <tr>\n",
       "      <th>max</th>\n",
       "      <td>170.200000</td>\n",
       "    </tr>\n",
       "  </tbody>\n",
       "</table>\n",
       "</div>"
      ],
      "text/plain": [
       "       Precipitation\n",
       "count    2021.000000\n",
       "mean        4.505888\n",
       "std        11.713487\n",
       "min         0.000000\n",
       "25%         0.000000\n",
       "50%         0.500000\n",
       "75%         3.300000\n",
       "max       170.200000"
      ]
     },
     "execution_count": 20,
     "metadata": {},
     "output_type": "execute_result"
    }
   ],
   "source": [
    "# Use Pandas to calculate the summary statistics for the precipitation data\n",
    "# Print the summary statistics for the precipitation data\n",
    "precipitation = prcp_df[\"Precipitation\"].to_frame()\n",
    "precipitation.describe()"
   ]
  },
  {
   "cell_type": "code",
   "execution_count": 11,
   "metadata": {},
   "outputs": [
    {
     "data": {
      "text/html": [
       "<div>\n",
       "<style scoped>\n",
       "    .dataframe tbody tr th:only-of-type {\n",
       "        vertical-align: middle;\n",
       "    }\n",
       "\n",
       "    .dataframe tbody tr th {\n",
       "        vertical-align: top;\n",
       "    }\n",
       "\n",
       "    .dataframe thead th {\n",
       "        text-align: right;\n",
       "    }\n",
       "</style>\n",
       "<table border=\"1\" class=\"dataframe\">\n",
       "  <thead>\n",
       "    <tr style=\"text-align: right;\">\n",
       "      <th></th>\n",
       "      <th>precipitation</th>\n",
       "    </tr>\n",
       "  </thead>\n",
       "  <tbody>\n",
       "    <tr>\n",
       "      <th>count</th>\n",
       "      <td>2021.000000</td>\n",
       "    </tr>\n",
       "    <tr>\n",
       "      <th>mean</th>\n",
       "      <td>4.505888</td>\n",
       "    </tr>\n",
       "    <tr>\n",
       "      <th>std</th>\n",
       "      <td>11.713487</td>\n",
       "    </tr>\n",
       "    <tr>\n",
       "      <th>min</th>\n",
       "      <td>0.000000</td>\n",
       "    </tr>\n",
       "    <tr>\n",
       "      <th>25%</th>\n",
       "      <td>0.000000</td>\n",
       "    </tr>\n",
       "    <tr>\n",
       "      <th>50%</th>\n",
       "      <td>0.500000</td>\n",
       "    </tr>\n",
       "    <tr>\n",
       "      <th>75%</th>\n",
       "      <td>3.300000</td>\n",
       "    </tr>\n",
       "    <tr>\n",
       "      <th>max</th>\n",
       "      <td>170.200000</td>\n",
       "    </tr>\n",
       "  </tbody>\n",
       "</table>\n",
       "</div>"
      ],
      "text/plain": [
       "       precipitation\n",
       "count    2021.000000\n",
       "mean        4.505888\n",
       "std        11.713487\n",
       "min         0.000000\n",
       "25%         0.000000\n",
       "50%         0.500000\n",
       "75%         3.300000\n",
       "max       170.200000"
      ]
     },
     "execution_count": 11,
     "metadata": {},
     "output_type": "execute_result"
    }
   ],
   "source": []
  },
  {
   "cell_type": "markdown",
   "metadata": {},
   "source": [
    "# Exploratory Station Analysis"
   ]
  },
  {
   "cell_type": "code",
   "execution_count": 21,
   "metadata": {
    "tags": []
   },
   "outputs": [
    {
     "data": {
      "text/plain": [
       "9"
      ]
     },
     "execution_count": 21,
     "metadata": {},
     "output_type": "execute_result"
    }
   ],
   "source": [
    "# Design a query to calculate the total number of stations in the dataset\n",
    "session.query(Station.id).count()"
   ]
  },
  {
   "cell_type": "code",
   "execution_count": 12,
   "metadata": {},
   "outputs": [
    {
     "data": {
      "text/plain": [
       "[(9,)]"
      ]
     },
     "execution_count": 12,
     "metadata": {},
     "output_type": "execute_result"
    }
   ],
   "source": []
  },
  {
   "cell_type": "code",
   "execution_count": 22,
   "metadata": {
    "tags": []
   },
   "outputs": [
    {
     "data": {
      "text/plain": [
       "[('USC00519281', 2772),\n",
       " ('USC00519397', 2724),\n",
       " ('USC00513117', 2709),\n",
       " ('USC00519523', 2669),\n",
       " ('USC00516128', 2612),\n",
       " ('USC00514830', 2202),\n",
       " ('USC00511918', 1979),\n",
       " ('USC00517948', 1372),\n",
       " ('USC00518838', 511)]"
      ]
     },
     "execution_count": 22,
     "metadata": {},
     "output_type": "execute_result"
    }
   ],
   "source": [
    "# Design a query to find the most active stations (i.e. which stations have the most rows?)\n",
    "# List the stations and their counts in descending order.\n",
    "\n",
    "s_results = session.query(Measurement.station, func.count(Measurement.station)).\\\n",
    "            group_by(Measurement.station).\\\n",
    "            order_by(func.count(Measurement.station).desc()).all()\n",
    "s_results"
   ]
  },
  {
   "cell_type": "code",
   "execution_count": 13,
   "metadata": {},
   "outputs": [
    {
     "data": {
      "text/plain": [
       "[('USC00519281', 2772),\n",
       " ('USC00519397', 2724),\n",
       " ('USC00513117', 2709),\n",
       " ('USC00519523', 2669),\n",
       " ('USC00516128', 2612),\n",
       " ('USC00514830', 2202),\n",
       " ('USC00511918', 1979),\n",
       " ('USC00517948', 1372),\n",
       " ('USC00518838', 511)]"
      ]
     },
     "execution_count": 13,
     "metadata": {},
     "output_type": "execute_result"
    }
   ],
   "source": []
  },
  {
   "cell_type": "code",
   "execution_count": 23,
   "metadata": {
    "tags": []
   },
   "outputs": [
    {
     "data": {
      "text/plain": [
       "[(12.2, 29.4, 22.03582251082252)]"
      ]
     },
     "execution_count": 23,
     "metadata": {},
     "output_type": "execute_result"
    }
   ],
   "source": [
    "# Using the most active station id from the previous query, calculate the lowest, highest, and average temperature.\n",
    "\n",
    "best_station = s_results[0][0]\n",
    "session.query(func.min(Measurement.tobs), func.max(Measurement.tobs),func.avg(Measurement.tobs)).\\\n",
    "                filter(Measurement.station == best_station).all()"
   ]
  },
  {
   "cell_type": "code",
   "execution_count": 14,
   "metadata": {},
   "outputs": [
    {
     "data": {
      "text/plain": [
       "[(12.2, 29.4, 22.03582251082252)]"
      ]
     },
     "execution_count": 14,
     "metadata": {},
     "output_type": "execute_result"
    }
   ],
   "source": []
  },
  {
   "cell_type": "code",
   "execution_count": 24,
   "metadata": {
    "tags": []
   },
   "outputs": [
    {
     "data": {
      "text/plain": [
       "[('USC00519281', 25.0),\n",
       " ('USC00519281', 26.7),\n",
       " ('USC00519281', 26.7),\n",
       " ('USC00519281', 23.9),\n",
       " ('USC00519281', 22.8),\n",
       " ('USC00519281', 25.6),\n",
       " ('USC00519281', 25.0),\n",
       " ('USC00519281', 25.6),\n",
       " ('USC00519281', 26.7),\n",
       " ('USC00519281', 26.7),\n",
       " ('USC00519281', 25.6),\n",
       " ('USC00519281', 25.6),\n",
       " ('USC00519281', 25.6),\n",
       " ('USC00519281', 22.8),\n",
       " ('USC00519281', 23.3),\n",
       " ('USC00519281', 26.7),\n",
       " ('USC00519281', 26.1),\n",
       " ('USC00519281', 25.0),\n",
       " ('USC00519281', 26.7),\n",
       " ('USC00519281', 24.4),\n",
       " ('USC00519281', 26.1),\n",
       " ('USC00519281', 23.9),\n",
       " ('USC00519281', 26.1),\n",
       " ('USC00519281', 25.6),\n",
       " ('USC00519281', 26.1),\n",
       " ('USC00519281', 25.6),\n",
       " ('USC00519281', 25.6),\n",
       " ('USC00519281', 24.4),\n",
       " ('USC00519281', 23.3),\n",
       " ('USC00519281', 25.0),\n",
       " ('USC00519281', 25.6),\n",
       " ('USC00519281', 26.1),\n",
       " ('USC00519281', 26.1),\n",
       " ('USC00519281', 25.0),\n",
       " ('USC00519281', 26.7),\n",
       " ('USC00519281', 25.6),\n",
       " ('USC00519281', 25.6),\n",
       " ('USC00519281', 25.6),\n",
       " ('USC00519281', 25.0),\n",
       " ('USC00519281', 26.1),\n",
       " ('USC00519281', 26.1),\n",
       " ('USC00519281', 26.1),\n",
       " ('USC00519281', 26.1),\n",
       " ('USC00519281', 23.9),\n",
       " ('USC00519281', 24.4),\n",
       " ('USC00519281', 22.8),\n",
       " ('USC00519281', 22.2),\n",
       " ('USC00519281', 21.7),\n",
       " ('USC00519281', 25.0),\n",
       " ('USC00519281', 26.1),\n",
       " ('USC00519281', 25.6),\n",
       " ('USC00519281', 26.1),\n",
       " ('USC00519281', 25.0),\n",
       " ('USC00519281', 26.1),\n",
       " ('USC00519281', 25.0),\n",
       " ('USC00519281', 25.6),\n",
       " ('USC00519281', 25.6),\n",
       " ('USC00519281', 25.6),\n",
       " ('USC00519281', 25.6),\n",
       " ('USC00519281', 25.0),\n",
       " ('USC00519281', 23.3),\n",
       " ('USC00519281', 23.9),\n",
       " ('USC00519281', 24.4),\n",
       " ('USC00519281', 22.8),\n",
       " ('USC00519281', 24.4),\n",
       " ('USC00519281', 23.3),\n",
       " ('USC00519281', 25.0),\n",
       " ('USC00519281', 24.4),\n",
       " ('USC00519281', 24.4),\n",
       " ('USC00519281', 23.3),\n",
       " ('USC00519281', 23.9),\n",
       " ('USC00519281', 23.9),\n",
       " ('USC00519281', 23.9),\n",
       " ('USC00519281', 23.9),\n",
       " ('USC00519281', 21.7),\n",
       " ('USC00519281', 17.2),\n",
       " ('USC00519281', 21.1),\n",
       " ('USC00519281', 20.0),\n",
       " ('USC00519281', 19.4),\n",
       " ('USC00519281', 25.0),\n",
       " ('USC00519281', 23.3),\n",
       " ('USC00519281', 25.0),\n",
       " ('USC00519281', 24.4),\n",
       " ('USC00519281', 24.4),\n",
       " ('USC00519281', 23.9),\n",
       " ('USC00519281', 24.4),\n",
       " ('USC00519281', 23.9),\n",
       " ('USC00519281', 22.8),\n",
       " ('USC00519281', 23.9),\n",
       " ('USC00519281', 22.8),\n",
       " ('USC00519281', 23.9),\n",
       " ('USC00519281', 23.3),\n",
       " ('USC00519281', 23.9),\n",
       " ('USC00519281', 23.3),\n",
       " ('USC00519281', 23.9),\n",
       " ('USC00519281', 22.8),\n",
       " ('USC00519281', 23.9),\n",
       " ('USC00519281', 22.8),\n",
       " ('USC00519281', 22.8),\n",
       " ('USC00519281', 23.3),\n",
       " ('USC00519281', 21.1),\n",
       " ('USC00519281', 22.2),\n",
       " ('USC00519281', 21.1),\n",
       " ('USC00519281', 19.4),\n",
       " ('USC00519281', 19.4),\n",
       " ('USC00519281', 20.6),\n",
       " ('USC00519281', 21.1),\n",
       " ('USC00519281', 20.0),\n",
       " ('USC00519281', 20.6),\n",
       " ('USC00519281', 20.6),\n",
       " ('USC00519281', 18.9),\n",
       " ('USC00519281', 18.3),\n",
       " ('USC00519281', 20.0),\n",
       " ('USC00519281', 16.7),\n",
       " ('USC00519281', 23.9),\n",
       " ('USC00519281', 21.1),\n",
       " ('USC00519281', 20.6),\n",
       " ('USC00519281', 24.4),\n",
       " ('USC00519281', 24.4),\n",
       " ('USC00519281', 23.3),\n",
       " ('USC00519281', 22.8),\n",
       " ('USC00519281', 21.7),\n",
       " ('USC00519281', 23.3),\n",
       " ('USC00519281', 23.3),\n",
       " ('USC00519281', 22.2),\n",
       " ('USC00519281', 21.7),\n",
       " ('USC00519281', 22.2),\n",
       " ('USC00519281', 23.3),\n",
       " ('USC00519281', 20.6),\n",
       " ('USC00519281', 19.4),\n",
       " ('USC00519281', 22.2),\n",
       " ('USC00519281', 21.1),\n",
       " ('USC00519281', 17.8),\n",
       " ('USC00519281', 17.2),\n",
       " ('USC00519281', 17.2),\n",
       " ('USC00519281', 16.7),\n",
       " ('USC00519281', 21.1),\n",
       " ('USC00519281', 21.1),\n",
       " ('USC00519281', 16.7),\n",
       " ('USC00519281', 16.7),\n",
       " ('USC00519281', 17.2),\n",
       " ('USC00519281', 18.3),\n",
       " ('USC00519281', 20.6),\n",
       " ('USC00519281', 25.0),\n",
       " ('USC00519281', 21.1),\n",
       " ('USC00519281', 23.3),\n",
       " ('USC00519281', 20.6),\n",
       " ('USC00519281', 22.2),\n",
       " ('USC00519281', 21.7),\n",
       " ('USC00519281', 20.6),\n",
       " ('USC00519281', 21.7),\n",
       " ('USC00519281', 21.7),\n",
       " ('USC00519281', 22.2),\n",
       " ('USC00519281', 22.2),\n",
       " ('USC00519281', 20.6),\n",
       " ('USC00519281', 21.1),\n",
       " ('USC00519281', 18.9),\n",
       " ('USC00519281', 18.3),\n",
       " ('USC00519281', 20.6),\n",
       " ('USC00519281', 20.0),\n",
       " ('USC00519281', 20.0),\n",
       " ('USC00519281', 20.0),\n",
       " ('USC00519281', 15.0),\n",
       " ('USC00519281', 15.6),\n",
       " ('USC00519281', 21.1),\n",
       " ('USC00519281', 22.8),\n",
       " ('USC00519281', 23.9),\n",
       " ('USC00519281', 17.8),\n",
       " ('USC00519281', 15.0),\n",
       " ('USC00519281', 15.0),\n",
       " ('USC00519281', 16.7),\n",
       " ('USC00519281', 20.0),\n",
       " ('USC00519281', 21.1),\n",
       " ('USC00519281', 22.8),\n",
       " ('USC00519281', 26.1),\n",
       " ('USC00519281', 23.9),\n",
       " ('USC00519281', 18.3),\n",
       " ('USC00519281', 21.1),\n",
       " ('USC00519281', 23.3),\n",
       " ('USC00519281', 21.1),\n",
       " ('USC00519281', 21.1),\n",
       " ('USC00519281', 21.7),\n",
       " ('USC00519281', 21.7),\n",
       " ('USC00519281', 21.7),\n",
       " ('USC00519281', 20.6),\n",
       " ('USC00519281', 16.1),\n",
       " ('USC00519281', 19.4),\n",
       " ('USC00519281', 18.3),\n",
       " ('USC00519281', 22.2),\n",
       " ('USC00519281', 21.7),\n",
       " ('USC00519281', 22.8),\n",
       " ('USC00519281', 22.2),\n",
       " ('USC00519281', 25.0),\n",
       " ('USC00519281', 22.8),\n",
       " ('USC00519281', 19.4),\n",
       " ('USC00519281', 16.7),\n",
       " ('USC00519281', 17.8),\n",
       " ('USC00519281', 19.4),\n",
       " ('USC00519281', 18.9),\n",
       " ('USC00519281', 27.2),\n",
       " ('USC00519281', 20.6),\n",
       " ('USC00519281', 18.9),\n",
       " ('USC00519281', 19.4),\n",
       " ('USC00519281', 20.6),\n",
       " ('USC00519281', 18.9),\n",
       " ('USC00519281', 20.0),\n",
       " ('USC00519281', 18.3),\n",
       " ('USC00519281', 23.3),\n",
       " ('USC00519281', 20.6),\n",
       " ('USC00519281', 22.2),\n",
       " ('USC00519281', 22.8),\n",
       " ('USC00519281', 22.2),\n",
       " ('USC00519281', 21.7),\n",
       " ('USC00519281', 24.4),\n",
       " ('USC00519281', 25.0),\n",
       " ('USC00519281', 24.4),\n",
       " ('USC00519281', 23.3),\n",
       " ('USC00519281', 20.0),\n",
       " ('USC00519281', 22.8),\n",
       " ('USC00519281', 21.7),\n",
       " ('USC00519281', 23.3),\n",
       " ('USC00519281', 23.9),\n",
       " ('USC00519281', 21.1),\n",
       " ('USC00519281', 19.4),\n",
       " ('USC00519281', 21.7),\n",
       " ('USC00519281', 19.4),\n",
       " ('USC00519281', 23.3),\n",
       " ('USC00519281', 25.0),\n",
       " ('USC00519281', 25.6),\n",
       " ('USC00519281', 19.4),\n",
       " ('USC00519281', 21.1),\n",
       " ('USC00519281', 20.6),\n",
       " ('USC00519281', 20.6),\n",
       " ('USC00519281', 23.3),\n",
       " ('USC00519281', 25.6),\n",
       " ('USC00519281', 21.7),\n",
       " ('USC00519281', 19.4),\n",
       " ('USC00519281', 20.0),\n",
       " ('USC00519281', 19.4),\n",
       " ('USC00519281', 24.4),\n",
       " ('USC00519281', 20.6),\n",
       " ('USC00519281', 22.2),\n",
       " ('USC00519281', 24.4),\n",
       " ('USC00519281', 20.0),\n",
       " ('USC00519281', 22.2),\n",
       " ('USC00519281', 23.3),\n",
       " ('USC00519281', 21.1),\n",
       " ('USC00519281', 19.4),\n",
       " ('USC00519281', 22.2),\n",
       " ('USC00519281', 15.6),\n",
       " ('USC00519281', 18.3),\n",
       " ('USC00519281', 23.9),\n",
       " ('USC00519281', 21.1),\n",
       " ('USC00519281', 23.9),\n",
       " ('USC00519281', 21.1),\n",
       " ('USC00519281', 26.1),\n",
       " ('USC00519281', 23.9),\n",
       " ('USC00519281', 21.1),\n",
       " ('USC00519281', 19.4),\n",
       " ('USC00519281', 23.3),\n",
       " ('USC00519281', 21.1),\n",
       " ('USC00519281', 23.9),\n",
       " ('USC00519281', 24.4),\n",
       " ('USC00519281', 25.0),\n",
       " ('USC00519281', 23.3),\n",
       " ('USC00519281', 23.3),\n",
       " ('USC00519281', 23.3),\n",
       " ('USC00519281', 20.6),\n",
       " ('USC00519281', 20.0),\n",
       " ('USC00519281', 24.4),\n",
       " ('USC00519281', 23.3),\n",
       " ('USC00519281', 21.7),\n",
       " ('USC00519281', 21.7),\n",
       " ('USC00519281', 23.3),\n",
       " ('USC00519281', 23.3),\n",
       " ('USC00519281', 23.3),\n",
       " ('USC00519281', 23.3),\n",
       " ('USC00519281', 26.7),\n",
       " ('USC00519281', 23.3),\n",
       " ('USC00519281', 22.2),\n",
       " ('USC00519281', 23.9),\n",
       " ('USC00519281', 26.7),\n",
       " ('USC00519281', 24.4),\n",
       " ('USC00519281', 24.4),\n",
       " ('USC00519281', 25.0),\n",
       " ('USC00519281', 23.9),\n",
       " ('USC00519281', 23.9),\n",
       " ('USC00519281', 23.9),\n",
       " ('USC00519281', 23.9),\n",
       " ('USC00519281', 22.2),\n",
       " ('USC00519281', 23.3),\n",
       " ('USC00519281', 23.3),\n",
       " ('USC00519281', 23.3),\n",
       " ('USC00519281', 24.4),\n",
       " ('USC00519281', 23.3),\n",
       " ('USC00519281', 23.9),\n",
       " ('USC00519281', 22.8),\n",
       " ('USC00519281', 26.1),\n",
       " ('USC00519281', 23.9),\n",
       " ('USC00519281', 22.2),\n",
       " ('USC00519281', 22.2),\n",
       " ('USC00519281', 23.3),\n",
       " ('USC00519281', 22.2),\n",
       " ('USC00519281', 22.2),\n",
       " ('USC00519281', 25.0),\n",
       " ('USC00519281', 21.7),\n",
       " ('USC00519281', 22.8),\n",
       " ('USC00519281', 24.4),\n",
       " ('USC00519281', 25.0),\n",
       " ('USC00519281', 24.4),\n",
       " ('USC00519281', 24.4),\n",
       " ('USC00519281', 26.1),\n",
       " ('USC00519281', 27.2),\n",
       " ('USC00519281', 24.4),\n",
       " ('USC00519281', 25.6),\n",
       " ('USC00519281', 25.0),\n",
       " ('USC00519281', 23.3),\n",
       " ('USC00519281', 23.9),\n",
       " ('USC00519281', 25.6),\n",
       " ('USC00519281', 25.6),\n",
       " ('USC00519281', 20.6),\n",
       " ('USC00519281', 22.2),\n",
       " ('USC00519281', 23.3),\n",
       " ('USC00519281', 23.3),\n",
       " ('USC00519281', 24.4),\n",
       " ('USC00519281', 26.7),\n",
       " ('USC00519281', 26.7),\n",
       " ('USC00519281', 24.4),\n",
       " ('USC00519281', 24.4),\n",
       " ('USC00519281', 24.4),\n",
       " ('USC00519281', 25.0),\n",
       " ('USC00519281', 25.0),\n",
       " ('USC00519281', 25.0),\n",
       " ('USC00519281', 27.8),\n",
       " ('USC00519281', 23.9),\n",
       " ('USC00519281', 25.0),\n",
       " ('USC00519281', 23.9),\n",
       " ('USC00519281', 24.4),\n",
       " ('USC00519281', 27.2),\n",
       " ('USC00519281', 27.8),\n",
       " ('USC00519281', 27.2),\n",
       " ('USC00519281', 24.4),\n",
       " ('USC00519281', 25.0),\n",
       " ('USC00519281', 27.8),\n",
       " ('USC00519281', 28.3),\n",
       " ('USC00519281', 25.0),\n",
       " ('USC00519281', 25.0),\n",
       " ('USC00519281', 25.0),\n",
       " ('USC00519281', 24.4),\n",
       " ('USC00519281', 24.4),\n",
       " ('USC00519281', 26.1)]"
      ]
     },
     "execution_count": 24,
     "metadata": {},
     "output_type": "execute_result"
    }
   ],
   "source": [
    "# Using the most active station id\n",
    "# Query the last 12 months of temperature observation data for this station and plot the results as a histogram\n",
    "\n",
    "# get the last 12 months of temperature observation data for station USC00519281\n",
    "\n",
    "tobs_station = session.query(Measurement.station, Measurement.tobs)\\\n",
    "    .filter(Measurement.date > '2016-08-23')\\\n",
    "    .filter(Measurement.date <= '2017-08-23')\\\n",
    "    .filter(Measurement.station == \"USC00519281\").all()\n",
    "\n",
    "tobs_station"
   ]
  },
  {
   "cell_type": "code",
   "execution_count": 25,
   "metadata": {
    "tags": []
   },
   "outputs": [
    {
     "data": {
      "text/html": [
       "<div>\n",
       "<style scoped>\n",
       "    .dataframe tbody tr th:only-of-type {\n",
       "        vertical-align: middle;\n",
       "    }\n",
       "\n",
       "    .dataframe tbody tr th {\n",
       "        vertical-align: top;\n",
       "    }\n",
       "\n",
       "    .dataframe thead th {\n",
       "        text-align: right;\n",
       "    }\n",
       "</style>\n",
       "<table border=\"1\" class=\"dataframe\">\n",
       "  <thead>\n",
       "    <tr style=\"text-align: right;\">\n",
       "      <th></th>\n",
       "      <th>Station</th>\n",
       "      <th>Temp. Observations</th>\n",
       "    </tr>\n",
       "  </thead>\n",
       "  <tbody>\n",
       "    <tr>\n",
       "      <th>0</th>\n",
       "      <td>USC00519281</td>\n",
       "      <td>25.0</td>\n",
       "    </tr>\n",
       "    <tr>\n",
       "      <th>1</th>\n",
       "      <td>USC00519281</td>\n",
       "      <td>26.7</td>\n",
       "    </tr>\n",
       "    <tr>\n",
       "      <th>2</th>\n",
       "      <td>USC00519281</td>\n",
       "      <td>26.7</td>\n",
       "    </tr>\n",
       "    <tr>\n",
       "      <th>3</th>\n",
       "      <td>USC00519281</td>\n",
       "      <td>23.9</td>\n",
       "    </tr>\n",
       "    <tr>\n",
       "      <th>4</th>\n",
       "      <td>USC00519281</td>\n",
       "      <td>22.8</td>\n",
       "    </tr>\n",
       "    <tr>\n",
       "      <th>...</th>\n",
       "      <td>...</td>\n",
       "      <td>...</td>\n",
       "    </tr>\n",
       "    <tr>\n",
       "      <th>346</th>\n",
       "      <td>USC00519281</td>\n",
       "      <td>25.0</td>\n",
       "    </tr>\n",
       "    <tr>\n",
       "      <th>347</th>\n",
       "      <td>USC00519281</td>\n",
       "      <td>25.0</td>\n",
       "    </tr>\n",
       "    <tr>\n",
       "      <th>348</th>\n",
       "      <td>USC00519281</td>\n",
       "      <td>24.4</td>\n",
       "    </tr>\n",
       "    <tr>\n",
       "      <th>349</th>\n",
       "      <td>USC00519281</td>\n",
       "      <td>24.4</td>\n",
       "    </tr>\n",
       "    <tr>\n",
       "      <th>350</th>\n",
       "      <td>USC00519281</td>\n",
       "      <td>26.1</td>\n",
       "    </tr>\n",
       "  </tbody>\n",
       "</table>\n",
       "<p>351 rows × 2 columns</p>\n",
       "</div>"
      ],
      "text/plain": [
       "         Station  Temp. Observations\n",
       "0    USC00519281                25.0\n",
       "1    USC00519281                26.7\n",
       "2    USC00519281                26.7\n",
       "3    USC00519281                23.9\n",
       "4    USC00519281                22.8\n",
       "..           ...                 ...\n",
       "346  USC00519281                25.0\n",
       "347  USC00519281                25.0\n",
       "348  USC00519281                24.4\n",
       "349  USC00519281                24.4\n",
       "350  USC00519281                26.1\n",
       "\n",
       "[351 rows x 2 columns]"
      ]
     },
     "execution_count": 25,
     "metadata": {},
     "output_type": "execute_result"
    }
   ],
   "source": [
    "# convert results to a dataframe for plotting\n",
    "station_temp_df = pd.DataFrame(tobs_station, columns=[\"Station\", \"Temp. Observations\"])\n",
    "station_temp_df"
   ]
  },
  {
   "cell_type": "code",
   "execution_count": 26,
   "metadata": {
    "tags": []
   },
   "outputs": [
    {
     "data": {
      "image/png": "[encoded data removed]",
      "text/plain": [
       "<Figure size 640x480 with 1 Axes>"
      ]
     },
     "metadata": {},
     "output_type": "display_data"
    },
    {
     "data": {
      "text/plain": [
       "<Figure size 640x480 with 0 Axes>"
      ]
     },
     "metadata": {},
     "output_type": "display_data"
    }
   ],
   "source": [
    "# Plot the results as a histogram with bins=12.\n",
    "station_temp_df[\"Temp. Observations\"].hist(bins=12, color=\"blue\")\n",
    "plt.title(\"Temperature Observations for Station USC00519281\")\n",
    "plt.xlabel(\"Temperature\")\n",
    "plt.ylabel(\"Observation Frequency\")\n",
    "plt.show()\n",
    "\n",
    "plt.savefig(\"station-histogram.png\")"
   ]
  },
  {
   "cell_type": "code",
   "execution_count": null,
   "metadata": {
    "tags": []
   },
   "outputs": [],
   "source": [
    "<function matplotlib.pyplot.show(*args, **kw)>"
   ]
  },
  {
   "cell_type": "code",
   "execution_count": 15,
   "metadata": {},
   "outputs": [
    {
     "data": {
      "text/plain": [
       "Text(0.5, 4.183333333333314, 'Temperature')"
      ]
     },
     "execution_count": 15,
     "metadata": {},
     "output_type": "execute_result"
    },
    {
     "data": {
      "image/png": "[encoded data removed]",
      "text/plain": [
       "<Figure size 640x480 with 1 Axes>"
      ]
     },
     "metadata": {},
     "output_type": "display_data"
    }
   ],
   "source": []
  },
  {
   "cell_type": "markdown",
   "metadata": {},
   "source": [
    "# Close Session"
   ]
  },
  {
   "cell_type": "code",
   "execution_count": 27,
   "metadata": {
    "tags": []
   },
   "outputs": [],
   "source": [
    "# Close Session\n",
    "session.close()"
   ]
  },
  {
   "cell_type": "code",
   "execution_count": null,
   "metadata": {},
   "outputs": [],
   "source": []
  }
 ],
 "metadata": {
  "anaconda-cloud": {},
  "kernel_info": {
   "name": "python3"
  },
  "kernelspec": {
   "display_name": "Python 3 (ipykernel)",
   "language": "python",
   "name": "python3"
  },
  "language_info": {
   "codemirror_mode": {
    "name": "ipython",
    "version": 3
   },
   "file_extension": ".py",
   "mimetype": "text/x-python",
   "name": "python",
   "nbconvert_exporter": "python",
   "pygments_lexer": "ipython3",
   "version": "3.11.4"
  },
  "nteract": {
   "version": "0.12.3"
  },
  "varInspector": {
   "cols": {
    "lenName": 16,
    "lenType": 16,
    "lenVar": 40
   },
   "kernels_config": {
    "python": {
     "delete_cmd_postfix": "",
     "delete_cmd_prefix": "del ",
     "library": "var_list.py",
     "varRefreshCmd": "print(var_dic_list())"
    },
    "r": {
     "delete_cmd_postfix": ") ",
     "delete_cmd_prefix": "rm(",
     "library": "var_list.r",
     "varRefreshCmd": "cat(var_dic_list()) "
    }
   },
   "types_to_exclude": [
    "module",
    "function",
    "builtin_function_or_method",
    "instance",
    "_Feature"
   ],
   "window_display": false
  }
 },
 "nbformat": 4,
 "nbformat_minor": 4
}
